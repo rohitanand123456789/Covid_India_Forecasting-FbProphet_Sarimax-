{
  "nbformat": 4,
  "nbformat_minor": 0,
  "metadata": {
    "colab": {
      "name": "Covid_India_Forecasting(FbProphet_Sarimax)-Sep-Oct(11).ipynb",
      "provenance": [],
      "collapsed_sections": []
    },
    "kernelspec": {
      "name": "python3",
      "display_name": "Python 3"
    }
  },
  "cells": [
    {
      "cell_type": "code",
      "metadata": {
        "id": "Mneo1Hztgi4w",
        "colab": {
          "resources": {
            "http://localhost:8080/nbextensions/google.colab/files.js": {
              "data": "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",
              "ok": true,
              "headers": [
                [
                  "content-type",
                  "application/javascript"
                ]
              ],
              "status": 200,
              "status_text": ""
            }
          },
          "base_uri": "https://localhost:8080/",
          "height": 73
        },
        "outputId": "74dd1827-cf88-4e1d-de73-83855bc12c03"
      },
      "source": [
        "from google.colab import files\n",
        "uploaded = files.upload()"
      ],
      "execution_count": null,
      "outputs": [
        {
          "output_type": "display_data",
          "data": {
            "text/html": [
              "\n",
              "     <input type=\"file\" id=\"files-6f583ae5-f786-4e89-b091-dd3595ffc485\" name=\"files[]\" multiple disabled\n",
              "        style=\"border:none\" />\n",
              "     <output id=\"result-6f583ae5-f786-4e89-b091-dd3595ffc485\">\n",
              "      Upload widget is only available when the cell has been executed in the\n",
              "      current browser session. Please rerun this cell to enable.\n",
              "      </output>\n",
              "      <script src=\"/nbextensions/google.colab/files.js\"></script> "
            ],
            "text/plain": [
              "<IPython.core.display.HTML object>"
            ]
          },
          "metadata": {
            "tags": []
          }
        },
        {
          "output_type": "stream",
          "text": [
            "Saving covid_19_data.csv to covid_19_data (1).csv\n"
          ],
          "name": "stdout"
        }
      ]
    },
    {
      "cell_type": "code",
      "metadata": {
        "id": "Ufqmeg0shtFa",
        "colab": {
          "base_uri": "https://localhost:8080/",
          "height": 34
        },
        "outputId": "7a25087b-2e78-46a5-d6ae-26034e058ebf"
      },
      "source": [
        "for fn in uploaded.keys():\n",
        "  print('User uploaded file \"{name}\" with length {length} bytes'.format(name=fn, length=len(uploaded[fn])))"
      ],
      "execution_count": null,
      "outputs": [
        {
          "output_type": "stream",
          "text": [
            "User uploaded file \"covid_19_data.csv\" with length 7557698 bytes\n"
          ],
          "name": "stdout"
        }
      ]
    },
    {
      "cell_type": "code",
      "metadata": {
        "id": "yE6Lapi3hy_W",
        "colab": {
          "base_uri": "https://localhost:8080/",
          "height": 265
        },
        "outputId": "6b44bd21-f2c7-4d87-c30a-553194c4ff63"
      },
      "source": [
        "import pandas as pd\n",
        "import io\n",
        "df = pd.read_csv(io.StringIO(uploaded['covid_19_data.csv'].decode('utf-8')),parse_dates=['Last Update'])\n",
        "print(df)"
      ],
      "execution_count": null,
      "outputs": [
        {
          "output_type": "stream",
          "text": [
            "           SNo ObservationDate     Province/State  ... Confirmed  Deaths  Recovered\n",
            "0            1      01/22/2020              Anhui  ...       1.0     0.0        0.0\n",
            "1            2      01/22/2020            Beijing  ...      14.0     0.0        0.0\n",
            "2            3      01/22/2020          Chongqing  ...       6.0     0.0        0.0\n",
            "3            4      01/22/2020             Fujian  ...       1.0     0.0        0.0\n",
            "4            5      01/22/2020              Gansu  ...       0.0     0.0        0.0\n",
            "...        ...             ...                ...  ...       ...     ...        ...\n",
            "107151  107152      09/10/2020  Zaporizhia Oblast  ...    2081.0    30.0     1049.0\n",
            "107152  107153      09/10/2020            Zeeland  ...    1101.0    72.0        0.0\n",
            "107153  107154      09/10/2020           Zhejiang  ...    1278.0     1.0     1268.0\n",
            "107154  107155      09/10/2020    Zhytomyr Oblast  ...    3938.0    79.0     2309.0\n",
            "107155  107156      09/10/2020       Zuid-Holland  ...   22016.0  1353.0        0.0\n",
            "\n",
            "[107156 rows x 8 columns]\n"
          ],
          "name": "stdout"
        }
      ]
    },
    {
      "cell_type": "code",
      "metadata": {
        "id": "GaWwO4yQh97u"
      },
      "source": [
        "import numpy as np\n",
        "from matplotlib import pyplot as plt\n",
        "from fbprophet import Prophet"
      ],
      "execution_count": null,
      "outputs": []
    },
    {
      "cell_type": "code",
      "metadata": {
        "id": "koH48bVoiR3D"
      },
      "source": [
        "df.rename(columns={'ObservationDate':'Date', 'Country/Region':'Country'}, inplace=True)"
      ],
      "execution_count": null,
      "outputs": []
    },
    {
      "cell_type": "code",
      "metadata": {
        "id": "AlkAvB-binIy"
      },
      "source": [
        "df_country = df.groupby(['Country'])[['Confirmed', 'Deaths', 'Recovered']].sum().reset_index()"
      ],
      "execution_count": null,
      "outputs": []
    },
    {
      "cell_type": "code",
      "metadata": {
        "id": "GeyXG4s6iwW8"
      },
      "source": [
        "Cntry = df.loc[df['Country'] == 'India']"
      ],
      "execution_count": null,
      "outputs": []
    },
    {
      "cell_type": "code",
      "metadata": {
        "id": "CZTq_CwpjAb-",
        "colab": {
          "base_uri": "https://localhost:8080/",
          "height": 197
        },
        "outputId": "92eae0ae-1c3f-458d-b24e-db7a43c7e815"
      },
      "source": [
        "Cntry.tail()"
      ],
      "execution_count": null,
      "outputs": [
        {
          "output_type": "execute_result",
          "data": {
            "text/html": [
              "<div>\n",
              "<style scoped>\n",
              "    .dataframe tbody tr th:only-of-type {\n",
              "        vertical-align: middle;\n",
              "    }\n",
              "\n",
              "    .dataframe tbody tr th {\n",
              "        vertical-align: top;\n",
              "    }\n",
              "\n",
              "    .dataframe thead th {\n",
              "        text-align: right;\n",
              "    }\n",
              "</style>\n",
              "<table border=\"1\" class=\"dataframe\">\n",
              "  <thead>\n",
              "    <tr style=\"text-align: right;\">\n",
              "      <th></th>\n",
              "      <th>SNo</th>\n",
              "      <th>Date</th>\n",
              "      <th>Province/State</th>\n",
              "      <th>Country</th>\n",
              "      <th>Last Update</th>\n",
              "      <th>Confirmed</th>\n",
              "      <th>Deaths</th>\n",
              "      <th>Recovered</th>\n",
              "    </tr>\n",
              "  </thead>\n",
              "  <tbody>\n",
              "    <tr>\n",
              "      <th>107085</th>\n",
              "      <td>107086</td>\n",
              "      <td>09/10/2020</td>\n",
              "      <td>Tripura</td>\n",
              "      <td>India</td>\n",
              "      <td>2020-09-11 04:46:23</td>\n",
              "      <td>17811.0</td>\n",
              "      <td>173.0</td>\n",
              "      <td>10255.0</td>\n",
              "    </tr>\n",
              "    <tr>\n",
              "      <th>107098</th>\n",
              "      <td>107099</td>\n",
              "      <td>09/10/2020</td>\n",
              "      <td>Unknown</td>\n",
              "      <td>India</td>\n",
              "      <td>2020-09-11 04:46:23</td>\n",
              "      <td>0.0</td>\n",
              "      <td>0.0</td>\n",
              "      <td>0.0</td>\n",
              "    </tr>\n",
              "    <tr>\n",
              "      <th>107107</th>\n",
              "      <td>107108</td>\n",
              "      <td>09/10/2020</td>\n",
              "      <td>Uttar Pradesh</td>\n",
              "      <td>India</td>\n",
              "      <td>2020-09-11 04:46:23</td>\n",
              "      <td>292029.0</td>\n",
              "      <td>4206.0</td>\n",
              "      <td>221506.0</td>\n",
              "    </tr>\n",
              "    <tr>\n",
              "      <th>107108</th>\n",
              "      <td>107109</td>\n",
              "      <td>09/10/2020</td>\n",
              "      <td>Uttarakhand</td>\n",
              "      <td>India</td>\n",
              "      <td>2020-09-11 04:46:23</td>\n",
              "      <td>28266.0</td>\n",
              "      <td>377.0</td>\n",
              "      <td>18783.0</td>\n",
              "    </tr>\n",
              "    <tr>\n",
              "      <th>107134</th>\n",
              "      <td>107135</td>\n",
              "      <td>09/10/2020</td>\n",
              "      <td>West Bengal</td>\n",
              "      <td>India</td>\n",
              "      <td>2020-09-11 04:46:23</td>\n",
              "      <td>193175.0</td>\n",
              "      <td>3771.0</td>\n",
              "      <td>166027.0</td>\n",
              "    </tr>\n",
              "  </tbody>\n",
              "</table>\n",
              "</div>"
            ],
            "text/plain": [
              "           SNo        Date Province/State  ... Confirmed  Deaths  Recovered\n",
              "107085  107086  09/10/2020        Tripura  ...   17811.0   173.0    10255.0\n",
              "107098  107099  09/10/2020        Unknown  ...       0.0     0.0        0.0\n",
              "107107  107108  09/10/2020  Uttar Pradesh  ...  292029.0  4206.0   221506.0\n",
              "107108  107109  09/10/2020    Uttarakhand  ...   28266.0   377.0    18783.0\n",
              "107134  107135  09/10/2020    West Bengal  ...  193175.0  3771.0   166027.0\n",
              "\n",
              "[5 rows x 8 columns]"
            ]
          },
          "metadata": {
            "tags": []
          },
          "execution_count": 9
        }
      ]
    },
    {
      "cell_type": "code",
      "metadata": {
        "id": "3FZJnZZajQHF"
      },
      "source": [
        "Cntry_date = Cntry.groupby(['Date'])[['Confirmed', 'Deaths', 'Recovered']].sum().reset_index()"
      ],
      "execution_count": null,
      "outputs": []
    },
    {
      "cell_type": "code",
      "metadata": {
        "id": "h8IQM_UCjdaR"
      },
      "source": [
        "date_x_ticks = []\n",
        "#country_x_ticks = []\n",
        "date_confirmed=[]\n",
        "date_deaths=[]\n",
        "date_recovered=[]"
      ],
      "execution_count": null,
      "outputs": []
    },
    {
      "cell_type": "code",
      "metadata": {
        "id": "dgM_a8_GjlVe"
      },
      "source": [
        "for index, row in Cntry_date.iterrows():\n",
        "  date_x_ticks.append(row['Date'])\n",
        "  date_confirmed.append(row['Confirmed'])\n",
        "  date_deaths.append(row['Deaths'])\n",
        "  date_recovered.append(row['Recovered'])"
      ],
      "execution_count": null,
      "outputs": []
    },
    {
      "cell_type": "code",
      "metadata": {
        "id": "11RkKSEyjwNy",
        "colab": {
          "base_uri": "https://localhost:8080/",
          "height": 294
        },
        "outputId": "ed944437-c088-4331-b143-d0d019a06f6e"
      },
      "source": [
        "plt.xlabel('Dates')\n",
        "plt.ylabel('Cases')\n",
        "plt.plot(date_confirmed, label='Confirmed', color='blue')\n",
        "plt.plot(date_deaths, label='Deaths', color='red')\n",
        "plt.plot(date_recovered, label='Recovered', color='green')\n",
        "plt.title('Coronavirus cases in India by days')\n",
        "plt.legend()\n",
        "plt.show()"
      ],
      "execution_count": null,
      "outputs": [
        {
          "output_type": "display_data",
          "data": {
            "image/png": "[encoded data removed]",
            "text/plain": [
              "<Figure size 432x288 with 1 Axes>"
            ]
          },
          "metadata": {
            "tags": [],
            "needs_background": "light"
          }
        }
      ]
    },
    {
      "cell_type": "code",
      "metadata": {
        "id": "7kw-5gp6j-6D",
        "colab": {
          "base_uri": "https://localhost:8080/",
          "height": 294
        },
        "outputId": "119b4a53-5e4f-477a-9c8e-e9e34691bac4"
      },
      "source": [
        "plt.xticks(np.arange(len(date_x_ticks[:10])), date_x_ticks[:10])\n",
        "plt.xlabel('Dates')\n",
        "plt.ylabel('Cases')\n",
        "plt.plot(date_confirmed[:10], label='Confirmed', color='blue')\n",
        "plt.plot(date_deaths[:10], label='Deaths', color='red')\n",
        "plt.plot(date_recovered[:10], label='Recovered', color='green')\n",
        "plt.title('Coronavirus cases in the India by date')\n",
        "plt.legend()\n",
        "plt.show()"
      ],
      "execution_count": null,
      "outputs": [
        {
          "output_type": "display_data",
          "data": {
            "image/png": "[encoded data removed]",
            "text/plain": [
              "<Figure size 432x288 with 1 Axes>"
            ]
          },
          "metadata": {
            "tags": [],
            "needs_background": "light"
          }
        }
      ]
    },
    {
      "cell_type": "code",
      "metadata": {
        "id": "HLiXn4zrkReg"
      },
      "source": [
        "date_confirmed_prophet = Cntry_date[['Date', 'Confirmed']]\n",
        "date_death_prophet = Cntry_date[['Date', 'Deaths']]\n",
        "date_recovered_prophet = Cntry_date[['Date', 'Recovered']]\n",
        "\n",
        "date_confirmed_prophet.columns = ['ds', 'y']\n",
        "date_death_prophet.columns = ['ds', 'y']\n",
        "date_recovered_prophet.columns = ['ds', 'y']"
      ],
      "execution_count": null,
      "outputs": []
    },
    {
      "cell_type": "code",
      "metadata": {
        "id": "Jg5C5iE6kaHV",
        "colab": {
          "base_uri": "https://localhost:8080/",
          "height": 70
        },
        "outputId": "5a068806-01da-4840-e94c-0a34758ef39b"
      },
      "source": [
        "model_confirmed = Prophet(interval_width=0.99)\n",
        "model_confirmed.fit(date_confirmed_prophet)\n",
        "future_confirmed = model_confirmed.make_future_dataframe(periods=30)\n",
        "forecast_confirmed = model_confirmed.predict(future_confirmed)"
      ],
      "execution_count": null,
      "outputs": [
        {
          "output_type": "stream",
          "text": [
            "INFO:numexpr.utils:NumExpr defaulting to 2 threads.\n",
            "INFO:fbprophet:Disabling yearly seasonality. Run prophet with yearly_seasonality=True to override this.\n",
            "INFO:fbprophet:Disabling daily seasonality. Run prophet with daily_seasonality=True to override this.\n"
          ],
          "name": "stderr"
        }
      ]
    },
    {
      "cell_type": "code",
      "metadata": {
        "id": "BjXz_x3FklfE"
      },
      "source": [
        "forecast_confirmed_yhat = []\n",
        "forecast_confirmed_yhat_u = []\n",
        "\n",
        "forecast_confirmed_yhat_l = []\n",
        "\n",
        "for index, row in forecast_confirmed.iterrows():\n",
        "  forecast_confirmed_yhat.append(row['yhat'])\n",
        "  forecast_confirmed_yhat_l.append(row['yhat_lower'])\n",
        "  forecast_confirmed_yhat_u.append(row['yhat_upper'])"
      ],
      "execution_count": null,
      "outputs": []
    },
    {
      "cell_type": "code",
      "metadata": {
        "id": "SF4VWSR_kvNM",
        "colab": {
          "base_uri": "https://localhost:8080/",
          "height": 294
        },
        "outputId": "93d9f07f-827f-47ac-9ebf-73956ed49556"
      },
      "source": [
        "plt.xlabel('Dates')\n",
        "plt.ylabel('Cases')\n",
        "plt.plot(forecast_confirmed_yhat, label='Prediction', color='blue')\n",
        "plt.plot(forecast_confirmed_yhat_l, label='Prediction lower', color='red')\n",
        "plt.plot(forecast_confirmed_yhat_u, label='Predicition upper', color='green')\n",
        "plt.title('Forecast of confirmed cases')\n",
        "plt.legend()\n",
        "plt.show()"
      ],
      "execution_count": null,
      "outputs": [
        {
          "output_type": "display_data",
          "data": {
            "image/png": "[encoded data removed]",
            "text/plain": [
              "<Figure size 432x288 with 1 Axes>"
            ]
          },
          "metadata": {
            "tags": [],
            "needs_background": "light"
          }
        }
      ]
    },
    {
      "cell_type": "code",
      "metadata": {
        "id": "5nqrBPlBk22_",
        "colab": {
          "base_uri": "https://localhost:8080/",
          "height": 52
        },
        "outputId": "1d472637-8172-491a-be68-5dc9db1568d5"
      },
      "source": [
        "model_death = Prophet(interval_width=0.99)\n",
        "model_death.fit(date_death_prophet)\n",
        "future_death = model_death .make_future_dataframe(periods=30)\n",
        "forecast_death = model_death.predict(future_death)"
      ],
      "execution_count": null,
      "outputs": [
        {
          "output_type": "stream",
          "text": [
            "INFO:fbprophet:Disabling yearly seasonality. Run prophet with yearly_seasonality=True to override this.\n",
            "INFO:fbprophet:Disabling daily seasonality. Run prophet with daily_seasonality=True to override this.\n"
          ],
          "name": "stderr"
        }
      ]
    },
    {
      "cell_type": "code",
      "metadata": {
        "id": "dDCc-G8AlOCq"
      },
      "source": [
        "forecast_death_yhat = []\n",
        "forecast_death_yhat_u = []\n",
        "\n",
        "forecast_death_yhat_l = []\n",
        "\n",
        "for index, row in forecast_death.iterrows():\n",
        "  forecast_death_yhat.append(row['yhat'])\n",
        "  forecast_death_yhat_l.append(row['yhat_lower'])\n",
        "  forecast_death_yhat_u.append(row['yhat_upper'])"
      ],
      "execution_count": null,
      "outputs": []
    },
    {
      "cell_type": "code",
      "metadata": {
        "id": "dRy_hbNMldAs",
        "colab": {
          "base_uri": "https://localhost:8080/",
          "height": 294
        },
        "outputId": "7e0954d7-36f1-4da7-fbbf-dc43c65fd23f"
      },
      "source": [
        "plt.xlabel('Dates')\n",
        "plt.ylabel('Cases')\n",
        "plt.plot(forecast_death_yhat, label='Prediction', color='blue')\n",
        "plt.plot(forecast_death_yhat_l, label='Prediction lower', color='red')\n",
        "plt.plot(forecast_death_yhat_u, label='Predicition upper', color='green')\n",
        "plt.title('Forecast of death cases')\n",
        "plt.legend()\n",
        "plt.show()"
      ],
      "execution_count": null,
      "outputs": [
        {
          "output_type": "display_data",
          "data": {
            "image/png": "[encoded data removed]",
            "text/plain": [
              "<Figure size 432x288 with 1 Axes>"
            ]
          },
          "metadata": {
            "tags": [],
            "needs_background": "light"
          }
        }
      ]
    },
    {
      "cell_type": "code",
      "metadata": {
        "id": "Cqi5Vbgbll5C",
        "colab": {
          "base_uri": "https://localhost:8080/",
          "height": 52
        },
        "outputId": "4920b1a2-7c7e-4d3f-ad1d-470a668c17ec"
      },
      "source": [
        "model_recovered = Prophet(interval_width=0.99)\n",
        "model_recovered.fit(date_recovered_prophet)\n",
        "future_recovered = model_recovered.make_future_dataframe(periods=30)\n",
        "forecast_recovered = model_recovered.predict(future_recovered)\n",
        "\n",
        "dates_forecast_recovered = []\n",
        "forecast_recovered_yhat = []\n",
        "forecast_recovered_yhat_u = []\n",
        "forecast_recovered_yhat_l = []\n",
        "\n",
        "for index, row in forecast_recovered.iterrows():\n",
        "  dates_forecast_recovered.append(row['ds'])\n",
        "  forecast_recovered_yhat.append(row['yhat'])\n",
        "  forecast_recovered_yhat_l.append(row['yhat_lower'])\n",
        "  forecast_recovered_yhat_u.append(row['yhat_upper'])"
      ],
      "execution_count": null,
      "outputs": [
        {
          "output_type": "stream",
          "text": [
            "INFO:fbprophet:Disabling yearly seasonality. Run prophet with yearly_seasonality=True to override this.\n",
            "INFO:fbprophet:Disabling daily seasonality. Run prophet with daily_seasonality=True to override this.\n"
          ],
          "name": "stderr"
        }
      ]
    },
    {
      "cell_type": "code",
      "metadata": {
        "id": "Bj_-uk_QlyxN",
        "colab": {
          "base_uri": "https://localhost:8080/",
          "height": 294
        },
        "outputId": "3d084448-a857-4858-f10f-73ec60849d58"
      },
      "source": [
        "plt.xlabel('Dates')\n",
        "plt.ylabel('Cases')\n",
        "plt.plot(forecast_recovered_yhat, label='Prediction', color='blue')\n",
        "plt.plot(forecast_recovered_yhat_l, label='Prediction lower', color='red')\n",
        "plt.plot(forecast_recovered_yhat_u, label='Predicition upper', color='green')\n",
        "plt.title('Forecast of recovered cases')\n",
        "plt.legend()\n",
        "plt.show()"
      ],
      "execution_count": null,
      "outputs": [
        {
          "output_type": "display_data",
          "data": {
            "image/png": "[encoded data removed]",
            "text/plain": [
              "<Figure size 432x288 with 1 Axes>"
            ]
          },
          "metadata": {
            "tags": [],
            "needs_background": "light"
          }
        }
      ]
    },
    {
      "cell_type": "code",
      "metadata": {
        "id": "BmbiUBtGl7XM",
        "colab": {
          "base_uri": "https://localhost:8080/",
          "height": 87
        },
        "outputId": "87f4786a-d6f2-4353-fba1-e85c651c5def"
      },
      "source": [
        "from matplotlib import pyplot as plt\n",
        "\n",
        "from statsmodels.tsa.ar_model import AR\n",
        "\n",
        "import statsmodels.api as sm\n",
        "\n",
        "from statsmodels.tsa.arima_model import ARIMA\n",
        "\n",
        "from statsmodels.tsa.statespace.sarimax import SARIMAX"
      ],
      "execution_count": null,
      "outputs": [
        {
          "output_type": "stream",
          "text": [
            "/usr/local/lib/python3.6/dist-packages/statsmodels/tools/_testing.py:19: FutureWarning:\n",
            "\n",
            "pandas.util.testing is deprecated. Use the functions in the public API at pandas.testing instead.\n",
            "\n"
          ],
          "name": "stderr"
        }
      ]
    },
    {
      "cell_type": "code",
      "metadata": {
        "id": "YjtSij27mHRv"
      },
      "source": [
        "date_confirmed = Cntry_date[['Date', 'Confirmed']]\n",
        "date_death = Cntry_date[['Date', 'Deaths']]\n",
        "date_recovered = Cntry_date[['Date', 'Recovered']]"
      ],
      "execution_count": null,
      "outputs": []
    },
    {
      "cell_type": "code",
      "metadata": {
        "id": "xCeWR0QOmXJB"
      },
      "source": [
        "for index, row in date_confirmed.iterrows():\n",
        "  if row['Confirmed'] is None:\n",
        "    row['Confirmed'] = 0.0\n",
        "\n",
        "for index, row in date_death.iterrows():\n",
        "  if row['Deaths'] is None:\n",
        "    row['Deaths'] = 0.0\n",
        "\n",
        "for index, row in date_recovered.iterrows():\n",
        "  if row['Recovered'] is None:\n",
        "    row['Recovered'] = 0.0"
      ],
      "execution_count": null,
      "outputs": []
    },
    {
      "cell_type": "code",
      "metadata": {
        "id": "TcZ97lDAmjCx",
        "colab": {
          "base_uri": "https://localhost:8080/",
          "height": 1000
        },
        "outputId": "aa7871ef-6e16-4c0a-c334-1a6e08224bf3"
      },
      "source": [
        "#SARIMA model\n",
        "model_sarima_confirmed = SARIMAX(np.asanyarray(date_confirmed['Confirmed']),  order=(2,1,0), seasonal_order=(1,1,0,12))\n",
        "model_fit_sarima_confirmed = model_sarima_confirmed.fit(disp=False, enforce_stationarity=False)\n",
        "predict_sarima_confirmed = model_fit_sarima_confirmed.predict(1, len(date_confirmed)+31)\n",
        "print(predict_sarima_confirmed)\n",
        "plt.xlabel('Dates')\n",
        "plt.ylabel('Cases')\n",
        "plt.plot(date_confirmed['Confirmed'], label='Confirmed', color='blue')\n",
        "plt.plot(predict_sarima_confirmed, label='Predicted unknown data', color='orange')\n",
        "\n",
        "plt.title('Confirmed cases vs Predicted Confirmed cases')\n",
        "plt.legend()\n",
        "plt.show()"
      ],
      "execution_count": null,
      "outputs": [
        {
          "output_type": "stream",
          "text": [
            "[1.56318736e+00 1.44876141e+00 9.66993982e-01 2.28236955e+00\n",
            " 3.75832482e+00 3.42022667e+00 2.95250880e+00 2.91085637e+00\n",
            " 2.95373779e+00 2.83937897e+00 3.00712151e+00 3.64082089e+00\n",
            " 2.87709470e+00 2.77474983e+00 3.46362092e+00 3.31006580e+00\n",
            " 2.62020390e+00 2.77418805e+00 3.00120540e+00 3.00060393e+00\n",
            " 3.00000949e+00 3.00189232e+00 3.00003151e+00 3.53601945e+00\n",
            " 2.82163187e+00 2.73869929e+00 3.54357200e+00 3.36312499e+00\n",
            " 2.55425003e+00 2.73469704e+00 3.00000000e+00 3.00000000e+00\n",
            " 5.66393047e+00 5.97614653e+00 3.56352004e+01 4.18896156e+01\n",
            " 3.23081118e+01 3.54839690e+01 4.21240460e+01 4.67682273e+01\n",
            " 6.22678411e+01 7.03367439e+01 7.95800572e+01 9.12693490e+01\n",
            " 1.12728928e+02 1.36465386e+02 1.23788534e+02 1.47593315e+02\n",
            " 1.72645424e+02 2.15052520e+02 2.79544856e+02 3.87166313e+02\n",
            " 4.59761756e+02 5.66620839e+02 5.99658790e+02 7.21628071e+02\n",
            " 8.08918948e+02 9.82867578e+02 1.10236337e+03 1.08073920e+03\n",
            " 1.35543377e+03 1.57211569e+03 2.29245757e+03 3.02822638e+03\n",
            " 2.85867514e+03 3.25270214e+03 4.03532383e+03 5.43170654e+03\n",
            " 6.10419428e+03 6.37875844e+03 7.26343811e+03 8.36025078e+03\n",
            " 9.18962334e+03 1.00890778e+04 1.13905499e+04 1.22409515e+04\n",
            " 1.32351353e+04 1.43369490e+04 1.55823810e+04 1.65834433e+04\n",
            " 1.88845922e+04 1.99354182e+04 2.11432645e+04 2.27150944e+04\n",
            " 2.43253259e+04 2.63513149e+04 2.78369385e+04 2.89807458e+04\n",
            " 3.10334102e+04 3.29503344e+04 3.52108073e+04 3.67009334e+04\n",
            " 3.86774372e+04 4.20089279e+04 4.49458806e+04 4.94409847e+04\n",
            " 5.24478343e+04 5.61400554e+04 5.94981236e+04 6.24616505e+04\n",
            " 6.59111839e+04 7.03668607e+04 7.45157867e+04 7.81921153e+04\n",
            " 8.11720179e+04 8.56883369e+04 8.99686459e+04 9.45288143e+04\n",
            " 1.00200285e+05 1.04899449e+05 1.11164592e+05 1.17129835e+05\n",
            " 1.24074093e+05 1.30485332e+05 1.37089913e+05 1.45027992e+05\n",
            " 1.51412526e+05 1.56605574e+05 1.65110061e+05 1.72249856e+05\n",
            " 1.80381010e+05 1.89924460e+05 1.98423672e+05 2.06047078e+05\n",
            " 2.15646132e+05 2.25326165e+05 2.35586228e+05 2.44980253e+05\n",
            " 2.55348912e+05 2.67550389e+05 2.75872891e+05 2.85489579e+05\n",
            " 2.82980754e+05 3.06809453e+05 3.08796697e+05 3.14426727e+05\n",
            " 3.32784208e+05 3.58135363e+05 3.70134337e+05 3.78148609e+05\n",
            " 3.92727785e+05 4.07587831e+05 4.24728850e+05 4.35648882e+05\n",
            " 4.60758551e+05 4.66619421e+05 4.87500749e+05 5.09174989e+05\n",
            " 5.30897413e+05 5.44811142e+05 5.64579258e+05 5.85631931e+05\n",
            " 6.03931894e+05 6.21769656e+05 6.44172965e+05 6.63367051e+05\n",
            " 7.02851394e+05 7.15672053e+05 7.41328170e+05 7.67324306e+05\n",
            " 7.95939803e+05 8.15276552e+05 8.43064900e+05 8.75773456e+05\n",
            " 9.05562682e+05 9.34874076e+05 9.64243961e+05 9.98656892e+05\n",
            " 1.03567339e+06 1.07115810e+06 1.11155630e+06 1.15593766e+06\n",
            " 1.19353867e+06 1.22861014e+06 1.27671450e+06 1.33116596e+06\n",
            " 1.38173910e+06 1.43131876e+06 1.48356616e+06 1.52753540e+06\n",
            " 1.51204434e+06 1.62192466e+06 1.70714758e+06 1.74779716e+06\n",
            " 1.80525977e+06 1.85822725e+06 1.90967437e+06 1.95902221e+06\n",
            " 2.01535571e+06 2.08308614e+06 2.14634235e+06 2.19326718e+06\n",
            " 2.30601780e+06 2.33058874e+06 2.37961920e+06 2.45520049e+06\n",
            " 2.52065060e+06 2.59064570e+06 2.65562212e+06 2.70977167e+06\n",
            " 2.76194590e+06 2.82703408e+06 2.89995749e+06 2.94795755e+06\n",
            " 3.07459846e+06 3.11795123e+06 3.16748064e+06 3.22796566e+06\n",
            " 3.28081244e+06 3.37585805e+06 3.46228652e+06 3.53648223e+06\n",
            " 3.62438999e+06 3.70274265e+06 3.76651335e+06 3.84138397e+06\n",
            " 3.92601395e+06 4.01432530e+06 4.10684749e+06 4.19610852e+06\n",
            " 4.30161029e+06 4.36543951e+06 4.44365833e+06 4.55108116e+06\n",
            " 4.65791773e+06 4.75084138e+06 4.84373036e+06 4.93782319e+06\n",
            " 5.02901721e+06 5.11569770e+06 5.20238114e+06 5.28573203e+06\n",
            " 5.37643687e+06 5.46781494e+06 5.56052854e+06 5.65399881e+06\n",
            " 5.74608963e+06 5.83165895e+06 5.92120033e+06 6.01376757e+06\n",
            " 6.10425030e+06 6.19394074e+06 6.28555082e+06 6.37540989e+06\n",
            " 6.46019073e+06 6.55258092e+06 6.64863514e+06 6.74528137e+06\n",
            " 6.84055463e+06 6.93129495e+06 7.02369333e+06 7.11800689e+06\n",
            " 7.20968698e+06 7.29845803e+06 7.38802374e+06 7.47490530e+06]\n"
          ],
          "name": "stdout"
        },
        {
          "output_type": "display_data",
          "data": {
            "image/png": "[encoded data removed]",
            "text/plain": [
              "<Figure size 432x288 with 1 Axes>"
            ]
          },
          "metadata": {
            "tags": [],
            "needs_background": "light"
          }
        }
      ]
    },
    {
      "cell_type": "code",
      "metadata": {
        "id": "Pdg6lAFsmsms",
        "colab": {
          "base_uri": "https://localhost:8080/",
          "height": 1000
        },
        "outputId": "cd434708-eaf1-4e9b-9062-a2d670bda817"
      },
      "source": [
        "model_sarima_death = SARIMAX(np.asanyarray(date_death['Deaths']),  order=(1,1,0), seasonal_order=(1,1,0,12))\n",
        "model_fit_sarima_death = model_sarima_death.fit(disp=False, enforce_stationarity=False)\n",
        "predict_sarima_death = model_fit_sarima_death.predict(1, len(date_death)+31)\n",
        "print(predict_sarima_death)\n",
        "plt.xlabel('Dates')\n",
        "plt.ylabel('Cases')\n",
        "plt.plot(date_death['Deaths'], label='Death', color='blue')\n",
        "plt.plot(predict_sarima_death, label='Predicted unknown data', color='orange')\n",
        "#plt.plot(predict_sarima_death[:len(predict_sarima_death)-31], label='Predicted known data', color='red')\n",
        "plt.title('Death cases vs Predicted Death cases')\n",
        "plt.legend()\n",
        "plt.show()"
      ],
      "execution_count": null,
      "outputs": [
        {
          "output_type": "stream",
          "text": [
            "[0.00000000e+00 0.00000000e+00 0.00000000e+00 0.00000000e+00\n",
            " 0.00000000e+00 0.00000000e+00 0.00000000e+00 0.00000000e+00\n",
            " 0.00000000e+00 0.00000000e+00 0.00000000e+00 0.00000000e+00\n",
            " 0.00000000e+00 0.00000000e+00 0.00000000e+00 0.00000000e+00\n",
            " 0.00000000e+00 0.00000000e+00 0.00000000e+00 0.00000000e+00\n",
            " 0.00000000e+00 0.00000000e+00 0.00000000e+00 0.00000000e+00\n",
            " 0.00000000e+00 0.00000000e+00 0.00000000e+00 0.00000000e+00\n",
            " 0.00000000e+00 0.00000000e+00 0.00000000e+00 0.00000000e+00\n",
            " 0.00000000e+00 0.00000000e+00 0.00000000e+00 0.00000000e+00\n",
            " 0.00000000e+00 0.00000000e+00 0.00000000e+00 0.00000000e+00\n",
            " 0.00000000e+00 1.20171345e+00 1.00000000e+00 2.20171345e+00\n",
            " 2.00000000e+00 2.00000000e+00 2.00000000e+00 3.20171345e+00\n",
            " 3.00000000e+00 4.20171345e+00 5.20171345e+00 3.79828655e+00\n",
            " 8.24235766e+00 1.04766050e+01 1.06372173e+01 1.22748916e+01\n",
            " 2.16137076e+01 2.00000000e+01 2.54440711e+01 2.74766050e+01\n",
            " 3.36457846e+01 3.61138224e+01 6.18736567e+01 7.68641755e+01\n",
            " 7.38888287e+01 8.83652042e+01 1.03259492e+02 1.48230887e+02\n",
            " 1.51795706e+02 1.86196846e+02 2.37442539e+02 2.52761571e+02\n",
            " 2.98103723e+02 3.54233675e+02 3.68975033e+02 3.99422003e+02\n",
            " 4.17210417e+02 4.62938475e+02 5.16296758e+02 5.34981112e+02\n",
            " 5.82122276e+02 6.27095117e+02 6.63061100e+02 7.14048484e+02\n",
            " 7.51792857e+02 8.11703410e+02 8.56305118e+02 8.94419331e+02\n",
            " 9.81636258e+02 1.04429715e+03 1.12321156e+03 1.19121540e+03\n",
            " 1.26219548e+03 1.38806678e+03 1.42458707e+03 1.63593459e+03\n",
            " 1.76359819e+03 1.83129731e+03 1.95059986e+03 2.03591728e+03\n",
            " 2.17563322e+03 2.28140277e+03 2.35912242e+03 2.48495968e+03\n",
            " 2.64247688e+03 2.71605777e+03 2.88593256e+03 2.96511200e+03\n",
            " 3.11684093e+03 3.24887752e+03 3.39627817e+03 3.53914741e+03\n",
            " 3.69086572e+03 3.81333599e+03 3.98521976e+03 4.14611973e+03\n",
            " 4.27804906e+03 4.44972026e+03 4.69266038e+03 4.86293481e+03\n",
            " 5.12202433e+03 5.33354387e+03 5.54554524e+03 5.76201632e+03\n",
            " 5.97656345e+03 6.23410203e+03 6.53752118e+03 6.82143059e+03\n",
            " 7.12208752e+03 7.38916837e+03 7.65021936e+03 8.00176885e+03\n",
            " 7.87630008e+03 8.80901989e+03 8.63398340e+03 9.12173724e+03\n",
            " 9.43490428e+03 1.02252759e+04 1.25001318e+04 1.24991408e+04\n",
            " 1.28204827e+04 1.32159367e+04 1.35083518e+04 1.38346081e+04\n",
            " 1.46090874e+04 1.45389087e+04 1.52805199e+04 1.55971967e+04\n",
            " 1.62495100e+04 1.74442435e+04 1.65906573e+04 1.72353080e+04\n",
            " 1.77709897e+04 1.81457321e+04 1.86147047e+04 1.88636867e+04\n",
            " 1.99213946e+04 1.99302130e+04 2.05986523e+04 2.10163838e+04\n",
            " 2.16721394e+04 2.25643201e+04 2.24197963e+04 2.31507373e+04\n",
            " 2.35978990e+04 2.41078383e+04 2.47983782e+04 2.54504622e+04\n",
            " 2.60786664e+04 2.67682808e+04 2.72904730e+04 2.79921342e+04\n",
            " 2.85607244e+04 2.92406296e+04 3.04963297e+04 3.11521618e+04\n",
            " 3.19190284e+04 3.26071186e+04 3.33577426e+04 3.40871742e+04\n",
            " 3.38768941e+04 3.56613394e+04 3.63771807e+04 3.70975285e+04\n",
            " 3.80117437e+04 3.90799161e+04 3.95879514e+04 4.04966320e+04\n",
            " 4.13953309e+04 4.22972199e+04 4.31976113e+04 4.36869527e+04\n",
            " 4.57549634e+04 4.58701187e+04 4.68737892e+04 4.78270255e+04\n",
            " 4.88177789e+04 5.00115072e+04 5.07991399e+04 5.17971767e+04\n",
            " 5.26213572e+04 5.37952783e+04 5.46710593e+04 5.55378461e+04\n",
            " 5.69640139e+04 5.74742883e+04 5.84355445e+04 5.93330739e+04\n",
            " 6.02745748e+04 6.14053166e+04 6.24726380e+04 6.34584420e+04\n",
            " 6.45271039e+04 6.54214707e+04 6.61979611e+04 6.73219265e+04\n",
            " 6.82883568e+04 6.93473900e+04 7.04942814e+04 7.16444044e+04\n",
            " 7.27207857e+04 7.38033446e+04 7.49019459e+04 7.60201926e+04\n",
            " 7.73434500e+04 7.82318149e+04 7.92566788e+04 8.02646015e+04\n",
            " 8.12939453e+04 8.22911807e+04 8.32774607e+04 8.42756851e+04\n",
            " 8.54021552e+04 8.64961139e+04 8.76133337e+04 8.87276474e+04\n",
            " 8.97632931e+04 9.06264936e+04 9.16586626e+04 9.26793106e+04\n",
            " 9.37328362e+04 9.47633622e+04 9.57782005e+04 9.67828736e+04\n",
            " 9.79117126e+04 9.90133047e+04 1.00150398e+05 1.01299062e+05\n",
            " 1.02348060e+05 1.03220389e+05 1.04249908e+05 1.05265940e+05\n",
            " 1.06310693e+05 1.07329141e+05 1.08333619e+05 1.09335953e+05]\n"
          ],
          "name": "stdout"
        },
        {
          "output_type": "display_data",
          "data": {
            "image/png": "[encoded data removed]",
            "text/plain": [
              "<Figure size 432x288 with 1 Axes>"
            ]
          },
          "metadata": {
            "tags": [],
            "needs_background": "light"
          }
        }
      ]
    },
    {
      "cell_type": "code",
      "metadata": {
        "id": "gbZtz6YUnGKl",
        "colab": {
          "base_uri": "https://localhost:8080/",
          "height": 1000
        },
        "outputId": "1f460b96-518e-4a45-d5ef-7bb324297c41"
      },
      "source": [
        "model_sarima_recovered = SARIMAX(np.asanyarray(date_recovered['Recovered']),  order=(2,1,0), seasonal_order=(1,1,0,12))\n",
        "model_fit_sarima_recovered = model_sarima_recovered.fit(disp=False, enforce_stationarity=False)\n",
        "predict_sarima_recovered = model_fit_sarima_recovered.predict(1, len(date_recovered)+31)\n",
        "print(predict_sarima_recovered)\n",
        "plt.xlabel('Dates')\n",
        "plt.ylabel('Cases')\n",
        "plt.plot(date_recovered['Recovered'], label='Recovered', color='blue')\n",
        "plt.plot(predict_sarima_recovered, label='Predicted unknown data', color='orange')\n",
        "plt.title('Recovered cases vs Predicted Recovered cases')\n",
        "plt.legend()\n",
        "plt.show()"
      ],
      "execution_count": null,
      "outputs": [
        {
          "output_type": "stream",
          "text": [
            "[0.00000000e+00 0.00000000e+00 0.00000000e+00 0.00000000e+00\n",
            " 0.00000000e+00 0.00000000e+00 0.00000000e+00 0.00000000e+00\n",
            " 0.00000000e+00 0.00000000e+00 0.00000000e+00 0.00000000e+00\n",
            " 0.00000000e+00 0.00000000e+00 0.00000000e+00 0.00000000e+00\n",
            " 0.00000000e+00 3.84933392e+00 4.77689988e+00 3.00380295e+00\n",
            " 3.00560769e+00 3.00006163e+00 3.00007069e+00 3.00000158e+00\n",
            " 3.00000073e+00 2.99999963e+00 3.00000000e+00 3.00000000e+00\n",
            " 4.47004886e+00 2.58288540e+00 2.12484899e+00 3.00000000e+00\n",
            " 3.00000000e+00 3.00000000e+00 3.00000000e+00 3.00000000e+00\n",
            " 3.00000000e+00 3.00000000e+00 3.00000000e+00 3.00000000e+00\n",
            " 5.81369314e+00 4.16120964e+00 3.08918791e+00 4.00000000e+00\n",
            " 4.00000000e+00 1.55536780e+01 1.83578893e+01 1.42837420e+01\n",
            " 1.45953210e+01 1.52837420e+01 2.20140310e+01 2.73178475e+01\n",
            " 2.59306669e+01 3.71410240e+01 4.76556623e+01 4.74231522e+01\n",
            " 5.17635937e+01 8.08840742e+01 1.01654714e+02 1.04530655e+02\n",
            " 1.10733025e+02 1.35436872e+02 1.68078433e+02 2.17208232e+02\n",
            " 2.21623816e+02 2.41048170e+02 2.48745528e+02 4.15238948e+02\n",
            " 5.38126085e+02 5.57114179e+02 6.96419106e+02 8.84109969e+02\n",
            " 1.12232370e+03 1.23727676e+03 1.28771009e+03 1.45540980e+03\n",
            " 1.56817236e+03 1.90266888e+03 2.37686397e+03 2.74626717e+03\n",
            " 3.22191287e+03 3.65623396e+03 4.45395977e+03 4.93951751e+03\n",
            " 5.41802620e+03 6.00285389e+03 6.40619172e+03 6.91949849e+03\n",
            " 7.76712485e+03 8.34571436e+03 9.12996461e+03 9.71342872e+03\n",
            " 1.06692957e+04 1.18119506e+04 1.25396151e+04 1.38177349e+04\n",
            " 1.51629231e+04 1.63767957e+04 1.80193851e+04 1.91343083e+04\n",
            " 2.05135402e+04 2.24266913e+04 2.40993224e+04 2.61180507e+04\n",
            " 2.81879008e+04 2.98532296e+04 3.19696983e+04 3.69757728e+04\n",
            " 4.00104268e+04 4.15799799e+04 4.47162940e+04 4.83481105e+04\n",
            " 5.16362173e+04 5.48230990e+04 5.73062702e+04 6.05822107e+04\n",
            " 6.35643182e+04 6.74953977e+04 7.21893250e+04 7.41424276e+04\n",
            " 8.76102891e+04 9.57180846e+04 9.61951569e+04 1.00113496e+05\n",
            " 1.04461715e+05 1.07864531e+05 1.12475728e+05 1.17726404e+05\n",
            " 1.23403906e+05 1.29226539e+05 1.34895877e+05 1.43700723e+05\n",
            " 1.37902939e+05 1.49745904e+05 1.54706111e+05 1.56810565e+05\n",
            " 1.69267365e+05 1.89988016e+05 2.00350253e+05 2.01557712e+05\n",
            " 2.12808708e+05 2.23201888e+05 2.37666102e+05 2.50578652e+05\n",
            " 2.60643993e+05 2.64713801e+05 2.81606179e+05 3.00544369e+05\n",
            " 3.12617339e+05 3.18637991e+05 3.31536032e+05 3.48495025e+05\n",
            " 3.60764849e+05 3.73861394e+05 3.93197543e+05 4.08106089e+05\n",
            " 4.27036566e+05 4.37444693e+05 4.55429380e+05 4.73211570e+05\n",
            " 4.98932624e+05 5.12087405e+05 5.30543504e+05 5.55153885e+05\n",
            " 5.71345483e+05 5.94742388e+05 6.09382028e+05 6.30354584e+05\n",
            " 6.56794340e+05 6.75449666e+05 6.98538628e+05 7.22573889e+05\n",
            " 7.48088530e+05 7.78097357e+05 8.09765358e+05 8.46558043e+05\n",
            " 8.79935971e+05 9.21592715e+05 9.51019600e+05 9.81547339e+05\n",
            " 9.74090384e+05 1.04324751e+06 1.10961373e+06 1.13141021e+06\n",
            " 1.18914030e+06 1.23304045e+06 1.27289810e+06 1.32641723e+06\n",
            " 1.37594668e+06 1.42310091e+06 1.47411725e+06 1.51452849e+06\n",
            " 1.60574542e+06 1.63986071e+06 1.68124286e+06 1.75670798e+06\n",
            " 1.80635578e+06 1.86293656e+06 1.92361347e+06 1.97286337e+06\n",
            " 2.03451523e+06 2.09420036e+06 2.15578347e+06 2.20300575e+06\n",
            " 2.30149712e+06 2.34774305e+06 2.38917252e+06 2.47038433e+06\n",
            " 2.51857969e+06 2.57743950e+06 2.65167962e+06 2.71064332e+06\n",
            " 2.77872612e+06 2.83806722e+06 2.90466730e+06 2.96893962e+06\n",
            " 3.02833074e+06 3.10348102e+06 3.18063190e+06 3.24694559e+06\n",
            " 3.32328662e+06 3.39295103e+06 3.47251411e+06 3.54725540e+06\n",
            " 3.61284059e+06 3.68318560e+06 3.75349941e+06 3.82689816e+06\n",
            " 3.89607465e+06 3.96605829e+06 4.04201308e+06 4.10897044e+06\n",
            " 4.18344435e+06 4.25552199e+06 4.32879136e+06 4.40066632e+06\n",
            " 4.46983055e+06 4.54094785e+06 4.61023902e+06 4.68414937e+06\n",
            " 4.75479127e+06 4.82736641e+06 4.90450096e+06 4.97497302e+06\n",
            " 5.05098554e+06 5.12637493e+06 5.20121324e+06 5.27419026e+06\n",
            " 5.34536229e+06 5.41746694e+06 5.48855918e+06 5.56339394e+06\n",
            " 5.63438656e+06 5.70665730e+06 5.78413251e+06 5.85368507e+06]\n"
          ],
          "name": "stdout"
        },
        {
          "output_type": "display_data",
          "data": {
            "image/png": "[encoded data removed]",
            "text/plain": [
              "<Figure size 432x288 with 1 Axes>"
            ]
          },
          "metadata": {
            "tags": [],
            "needs_background": "light"
          }
        }
      ]
    },
    {
      "cell_type": "code",
      "metadata": {
        "id": "UbE7_oG9n4y6"
      },
      "source": [
        ""
      ],
      "execution_count": null,
      "outputs": []
    }
  ]
}